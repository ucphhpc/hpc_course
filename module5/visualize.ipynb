{
 "cells": [
  {
   "cell_type": "code",
   "execution_count": 32,
   "id": "22b87a6b",
   "metadata": {},
   "outputs": [],
   "source": [
    "import numpy as np\n",
    "import matplotlib.pyplot as plt\n",
    "from matplotlib.animation import FuncAnimation\n",
    "\n",
    "Nx = 256\n",
    "Ny = 256\n",
    "data = np.fromfile('sw_output.data', np.float32).reshape((-1, Nx, Ny))\n",
    "\n",
    "fig = plt.figure(figsize=(7,7))\n",
    "plot = plt.imshow(data[0], cmap='RdBu_r')\n",
    "colorbar = plt.colorbar()\n",
    "plt.close()\n",
    "def init():\n",
    "    plot.set_data(data[0])\n",
    "    return plot,\n",
    "\n",
    "def update(j):\n",
    "    plot.set_data(data[j])\n",
    "    if j % 100 == 1:\n",
    "        print(f\"rendered {j-1} frames\")\n",
    "    return plot,\n",
    "\n",
    "\n",
    "anim = FuncAnimation(fig, update, init_func = init, frames=len(data), interval = 100, blit=True)"
   ]
  },
  {
   "cell_type": "code",
   "execution_count": 33,
   "id": "f80cdfce",
   "metadata": {},
   "outputs": [
    {
     "name": "stdout",
     "output_type": "stream",
     "text": [
      "rendered 0 frames\n",
      "rendered 100 frames\n",
      "rendered 200 frames\n",
      "rendered 300 frames\n",
      "rendered 400 frames\n",
      "rendered 500 frames\n",
      "rendered 600 frames\n",
      "rendered 700 frames\n",
      "rendered 800 frames\n",
      "rendered 900 frames\n"
     ]
    }
   ],
   "source": [
    "anim.save(\"video.mp4\", bitrate=-1, dpi=100)"
   ]
  },
  {
   "cell_type": "code",
   "execution_count": 34,
   "id": "2ba3b9bc",
   "metadata": {},
   "outputs": [
    {
     "data": {
      "text/html": [
       "<video src=\"video.mp4\" controls  >\n",
       "      Your browser does not support the <code>video</code> element.\n",
       "    </video>"
      ],
      "text/plain": [
       "<IPython.core.display.Video object>"
      ]
     },
     "execution_count": 34,
     "metadata": {},
     "output_type": "execute_result"
    }
   ],
   "source": [
    "from IPython.display import Video\n",
    "\n",
    "Video(\"video.mp4\")"
   ]
  },
  {
   "cell_type": "code",
   "execution_count": null,
   "id": "030f57f0",
   "metadata": {},
   "outputs": [],
   "source": []
  },
  {
   "cell_type": "code",
   "execution_count": null,
   "id": "bdfe7db4",
   "metadata": {},
   "outputs": [],
   "source": []
  }
 ],
 "metadata": {
  "kernelspec": {
   "display_name": "Python 3",
   "language": "python",
   "name": "python3"
  },
  "language_info": {
   "codemirror_mode": {
    "name": "ipython",
    "version": 3
   },
   "file_extension": ".py",
   "mimetype": "text/x-python",
   "name": "python",
   "nbconvert_exporter": "python",
   "pygments_lexer": "ipython3",
   "version": "3.8.8"
  }
 },
 "nbformat": 4,
 "nbformat_minor": 5
}
