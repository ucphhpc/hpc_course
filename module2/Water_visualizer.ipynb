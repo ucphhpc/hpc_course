{
 "cells": [
  {
   "cell_type": "code",
   "execution_count": null,
   "metadata": {},
   "outputs": [],
   "source": [
    "import numpy as np\n",
    "import matplotlib.pyplot as plt\n",
    "from matplotlib import animation\n",
    "\n",
    "data = np.loadtxt(\"trajectory.txt\", converters = {1: lambda s: b\"O\" == s})\n",
    "fig = plt.figure()\n",
    "ax = fig.add_subplot(projection='3d')\n",
    "times = np.unique(data[:,0])\n",
    "def get_data(n):\n",
    "    timeslice = data[data[:,0] == times[n]]\n",
    "    is_oxygen = timeslice[:,1] == 1\n",
    "    return timeslice[is_oxygen,2:], timeslice[~is_oxygen,2:]\n",
    "data_0 = get_data(0)\n",
    "oxygen_pts = ax.scatter(*data_0[0].T, c = 'b', marker='o')\n",
    "hydrogen_pts = ax.scatter(*data_0[1].T, c = 'k', marker='o')\n",
    "\n",
    "# don't show the plain background\n",
    "plt.close()\n",
    "\n",
    "# define function to draw each frame\n",
    "def drawframe(n):\n",
    "    if n % 10 == 1:\n",
    "        print(f\"Drawing frame {n} of {len(times)}\")\n",
    "    data_slice = get_data(n)\n",
    "    oxygen_pts._offsets3d = data_slice[0].T\n",
    "    hydrogen_pts._offsets3d = data_slice[1].T\n",
    "    return oxygen_pts, hydrogen_pts\n",
    "\n",
    "anim = animation.FuncAnimation(fig, drawframe, frames=len(times), interval=20, blit=True)"
   ]
  },
  {
   "cell_type": "code",
   "execution_count": null,
   "metadata": {},
   "outputs": [],
   "source": [
    "anim.save(\"video.mp4\")"
   ]
  },
  {
   "cell_type": "code",
   "execution_count": null,
   "metadata": {},
   "outputs": [],
   "source": [
    "from IPython.display import HTML\n",
    "HTML(anim.to_html5_video())"
   ]
  }
 ],
 "metadata": {
  "kernelspec": {
   "display_name": "Python 3",
   "language": "python",
   "name": "python3"
  },
  "language_info": {
   "codemirror_mode": {
    "name": "ipython",
    "version": 3
   },
   "file_extension": ".py",
   "mimetype": "text/x-python",
   "name": "python",
   "nbconvert_exporter": "python",
   "pygments_lexer": "ipython3",
   "version": "3.8.5"
  }
 },
 "nbformat": 4,
 "nbformat_minor": 4
}
